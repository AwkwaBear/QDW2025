{
 "cells": [
  {
   "cell_type": "markdown",
   "id": "90a2ffc3",
   "metadata": {},
   "source": [
    "# Import"
   ]
  },
  {
   "cell_type": "code",
   "execution_count": null,
   "id": "906244c2",
   "metadata": {},
   "outputs": [],
   "source": [
    "from ABCD import *\n",
    "from tests import *\n",
    "\n",
    "import matplotlib.pyplot as plt\n",
    "\n",
    "\n",
    "GHz = 1e9\n",
    "MHz = 1e6\n",
    "kHz = 1e3\n",
    "fF = 1e-15\n",
    "um = 1e-6\n",
    "us = 1e-6\n",
    "ms = 1e-3\n",
    "nH = 1e-9\n",
    "\n",
    "pi = np.pi\n",
    "vp = 1.2e8\n",
    "z0 = 50\n",
    "\n",
    "w_scale = 2*pi*MHz"
   ]
  },
  {
   "cell_type": "code",
   "execution_count": null,
   "id": "da7130c3",
   "metadata": {},
   "outputs": [],
   "source": [
    "plt.rcParams.update({\n",
    "    'font.size'        : 12, \n",
    "    'figure.facecolor' : '1',\n",
    "    'figure.dpi'       : 300,\n",
    "    'figure.figsize'   : (5, 4),\n",
    "})"
   ]
  },
  {
   "cell_type": "markdown",
   "id": "2fc68bd0",
   "metadata": {},
   "source": [
    "# Installations"
   ]
  },
  {
   "cell_type": "markdown",
   "id": "922b3127",
   "metadata": {},
   "source": [
    "To run this notebook create a new python environment:\n",
    "\n",
    "```bash\n",
    "conda create -n abcd_workshop python=3.13\n",
    "conda activate abcd_workshop\n",
    "```\n",
    "\n",
    "Then cd into this folder and run\n",
    "\n",
    "```bash\n",
    "pip install -r requirements.txt\n",
    "```"
   ]
  },
  {
   "cell_type": "markdown",
   "id": "66320ae5",
   "metadata": {},
   "source": [
    "# Exercise 1: Implement ABCD matrices"
   ]
  },
  {
   "cell_type": "markdown",
   "id": "352c44ed",
   "metadata": {},
   "source": [
    "In this exercise we implement the ABCD matrices for various circuit elements. We will also concatenate them to describe larger networks."
   ]
  },
  {
   "cell_type": "markdown",
   "id": "8c2013f4",
   "metadata": {},
   "source": [
    "## 1a: Implement ABCD matrices"
   ]
  },
  {
   "cell_type": "markdown",
   "id": "c3a24a03",
   "metadata": {},
   "source": [
    "Below we give an example of the ABCD matrix for series inductance. Note that we define a 2x2 matrix for each frequency of a frequency array. Follow the structure of this function to fill out the function in later sections."
   ]
  },
  {
   "cell_type": "code",
   "execution_count": null,
   "id": "67b9af98",
   "metadata": {},
   "outputs": [],
   "source": [
    "#-- Example matrx ------------------------------------------------------------\n",
    "\n",
    "def get_ABCD_series_inductance(\n",
    "        w_array: np.ndarray, # array of frequencies, shape (N,)\n",
    "        ind: float # inductance\n",
    "        ) -> np.ndarray: # array of ABCD matrices, one per frequency, shape (2,2,N)\n",
    "    \n",
    "    \"\"\"\n",
    "    ABCD matrix for a series inductor.\n",
    "    The ABCD matrix for a series inductor is given by:\n",
    "    | A  B | = | 1  jωL |\n",
    "    | C  D | = | 0  1   |\n",
    "\n",
    "    Parameters\n",
    "    ----------\n",
    "    w_array : np.ndarray\n",
    "        Array of angular frequencies (rad/s).\n",
    "    ind : float\n",
    "        Inductance value (H).\n",
    "\n",
    "    Returns\n",
    "    -------\n",
    "    np.ndarray\n",
    "        Array of ABCD matrices for the series inductor, one at each frequency, shape (N, 2, 2).\n",
    "    \"\"\"\n",
    "\n",
    "    # abcd_arr needed in shape of w_array\n",
    "    abcd_arr = np.zeros((len(w_array), 2, 2), dtype=np.complex128)\n",
    "\n",
    "    for i in range(len(abcd_arr)):\n",
    "        abcd_arr[i] = np.array([\n",
    "            [1    ,       1j*w_array[i]*ind],   \n",
    "            [0   ,                        1]\n",
    "        ])\n",
    "\n",
    "    return abcd_arr"
   ]
  },
  {
   "cell_type": "code",
   "execution_count": null,
   "id": "3e4ad269",
   "metadata": {},
   "outputs": [],
   "source": [
    "test_series_inductance(get_ABCD_series_inductance)"
   ]
  },
  {
   "cell_type": "code",
   "execution_count": null,
   "id": "6cb8fedb",
   "metadata": {},
   "outputs": [],
   "source": [
    "#-- Fill in the blanks! ------------------------------------------------------------\n",
    "\n",
    "def get_ABCD_series_capacitance(\n",
    "        w_array: np.ndarray, # array of frequencies, shape (N,)\n",
    "        c: float # capacitance\n",
    "        ) -> np.ndarray: # array of ABCD matrices, one per frequency, shape (N,2,2)\n",
    "\n",
    "    abcd_arr = np.zeros((len(w_array), 2, 2), dtype=np.complex128)\n",
    "\n",
    "    #-- TODO: Fill in ABCD matrix ----------------------------------------------------\n",
    "\n",
    "    #---------------------------------------------------------------------------------\n",
    "\n",
    "    return abcd_arr\n",
    "\n",
    "\n",
    "def get_ABCD_transmission_line(\n",
    "        w_array: np.ndarray, # array of frequencies, shape (N,)\n",
    "        l: float, # length of transmission line\n",
    "        z0: float, # characteristic impedance\n",
    "        vp: float # phase velocity\n",
    "        ) -> np.ndarray: # array of 2x2 ABCD matrices, one per frequency, shape (N,2,2)\n",
    "\n",
    "    abcd_arr = np.zeros((len(w_array), 2, 2), dtype=np.complex128)\n",
    "\n",
    "    #-- TODO: Fill in ABCD matrix ----------------------------------------------------\n",
    "\n",
    "    #---------------------------------------------------------------------------------\n",
    "\n",
    "    return abcd_arr\n",
    "\n",
    "\n",
    "def get_ABCD_parallel_inductance(\n",
    "        w_array: np.ndarray, # array of frequencies, shape (N,)\n",
    "        ind: float # inductance\n",
    "        ) -> np.ndarray: # array of ABCD matrices, one per frequency, shape (N,2,2)\n",
    "\n",
    "    abcd_arr = np.zeros((len(w_array), 2, 2), dtype=np.complex128)\n",
    "\n",
    "    #-- TODO: Fill in ABCD matrix ----------------------------------------------------\n",
    "\n",
    "    #---------------------------------------------------------------------------------\n",
    "\n",
    "    return abcd_arr\n"
   ]
  },
  {
   "cell_type": "markdown",
   "id": "f67fb021",
   "metadata": {},
   "source": [
    "Check your implementation."
   ]
  },
  {
   "cell_type": "code",
   "execution_count": null,
   "id": "8ca8fbd9",
   "metadata": {},
   "outputs": [],
   "source": [
    "test_series_capacitance(get_ABCD_series_capacitance)\n",
    "test_transmission_line(get_ABCD_transmission_line)\n",
    "test_parallel_inductance(get_ABCD_parallel_inductance)\n"
   ]
  },
  {
   "cell_type": "markdown",
   "id": "447c4982",
   "metadata": {},
   "source": [
    "## 1b: Implement S21 parameter"
   ]
  },
  {
   "cell_type": "markdown",
   "id": "a365dc6c",
   "metadata": {},
   "source": [
    "Complete the code to convert a abcd matrices into an s21 parameter."
   ]
  },
  {
   "cell_type": "code",
   "execution_count": null,
   "id": "beeeea33",
   "metadata": {},
   "outputs": [],
   "source": [
    "def s21_from_abcd(\n",
    "        abcd_arr: np.ndarray, # array of 2x2 ABCD matrices, one per frequency, shape (N,2,2)\n",
    "        z0: float # characteristic impedance\n",
    "        ) -> np.ndarray: # array of scalar s21 values, one per frequency, shape (N,)\n",
    "\n",
    "    #-- TODO: Write s21 function -----------------------------------------------------\n",
    "    # a = abcd_arr[:, 0, 0] # Upper left matrix element for each frequency\n",
    "    # b = \n",
    "    # c = \n",
    "    # d = \n",
    "    s21_arr = ...\n",
    "    #---------------------------------------------------------------------------------\n",
    "\n",
    "\n",
    "    return s21_arr"
   ]
  },
  {
   "cell_type": "markdown",
   "id": "6c067851",
   "metadata": {},
   "source": [
    "Check your implementation."
   ]
  },
  {
   "cell_type": "code",
   "execution_count": null,
   "id": "e216a4ae",
   "metadata": {},
   "outputs": [],
   "source": [
    "test_s21(s21_from_abcd)"
   ]
  },
  {
   "cell_type": "markdown",
   "id": "f3fe64b2",
   "metadata": {},
   "source": [
    "## 1c: Implement simple matrix multiplication"
   ]
  },
  {
   "cell_type": "markdown",
   "id": "3e899861",
   "metadata": {},
   "source": [
    "In this exercise, we multiply abcd matrices together to find the total abcd matrix of a concatenated networks. \n",
    "\n",
    "In our code, an abcd matrix is given as an array of shape ```(N,2,2)```, one 2x2 matrix per frequency. Therefore, to multiply two abcd matrix arrays together, we need to multiply them frequency-wise. The function ```multiply_abcd_matrices``` takes a list of abcd matrices and returns the frequency-wise product of the abcd arrays in the list.\n"
   ]
  },
  {
   "cell_type": "code",
   "execution_count": null,
   "id": "418f6ab5",
   "metadata": {},
   "outputs": [],
   "source": [
    "#-- Define function to multiply matrices ------------------------------------------------\n",
    "\n",
    "def multiply_abcd_matrices(\n",
    "        abcd_list : list, # list of ABCD matrices (each shape 2x2xN)\n",
    "        ):\n",
    "    \n",
    "    for i, abcd_arr in enumerate(abcd_list):\n",
    "        assert len(abcd_arr.shape) == 3 and abcd_arr.shape[1:]==(2,2), f'abcd_list[{i}] must have shape (n, 2, 2)'\n",
    "    # Initialize the result as the first array\n",
    "    result = abcd_list[0]\n",
    "    # Compute the dot product sequentially with each subsequent array\n",
    "    for abcd_arr in abcd_list[1:]:\n",
    "        result = np.einsum('nij,njk->nik', result, abcd_arr)\n",
    "    return result"
   ]
  },
  {
   "cell_type": "markdown",
   "id": "b8d153ab",
   "metadata": {},
   "source": [
    "Use the function to compute the ABCD matrix of the circuit depicted below."
   ]
  },
  {
   "cell_type": "markdown",
   "id": "2929e876",
   "metadata": {},
   "source": [
    "<img src=\"images/abcd_1c_circuit.png\" alt=\"ABCD Circuit\" width=\"300\">\n"
   ]
  },
  {
   "cell_type": "code",
   "execution_count": null,
   "id": "24d638d9",
   "metadata": {},
   "outputs": [],
   "source": [
    "#-- Circuit parameter definitions ------------------------------------------------\n",
    "\n",
    "C = 30*fF       # capacitance\n",
    "ind = 1*nH      # inductance\n",
    "l = 4000*um     # length of transmission line\n",
    "\n",
    "w_arr_1c = 2*pi* np.linspace(2, 60, 20_000) * GHz # frequency array in rad/s"
   ]
  },
  {
   "cell_type": "code",
   "execution_count": null,
   "id": "15f408ec",
   "metadata": {},
   "outputs": [],
   "source": [
    "#-- TODO: implement the abcd matrix multiplication for the cirucits above -----------------------------------------------------------------------\n",
    "# abcd_series_cap = \n",
    "# abcd_tline = \n",
    "# abcd_parallel_ind = \n",
    "\n",
    "abcd_total_1c = ...\n"
   ]
  },
  {
   "cell_type": "markdown",
   "id": "64337724",
   "metadata": {},
   "source": [
    "Check your implementation."
   ]
  },
  {
   "cell_type": "code",
   "execution_count": null,
   "id": "75f6bf92",
   "metadata": {},
   "outputs": [],
   "source": [
    "test_abcd_total_1c(abcd_total_1c)"
   ]
  },
  {
   "cell_type": "markdown",
   "id": "2e04753a",
   "metadata": {},
   "source": [
    "Plot the S21 spectrum.\n",
    "\n",
    "We provide a function for easy plotting. We pass the frequency array, and then an arbitrarily long list of tuples. Each tuple contains ```(S21_array, label, linestyle)```. One can also pass lists of values that are plotted as vertical lines. \n"
   ]
  },
  {
   "cell_type": "code",
   "execution_count": null,
   "id": "a8792826",
   "metadata": {},
   "outputs": [],
   "source": [
    "def plot_s21(\n",
    "    w_arr: np.ndarray, # array of frequencies in rad/s, shape (N,)\n",
    "    s21_tuple: list[Tuple[np.ndarray, str, str]], # tuple of s21 trace, label, and linestyle\n",
    "\n",
    "    vline_list_1: List[float]=[], # list of values to plot as vlines, shape (M,1)\n",
    "    v_line_list_2: List[float]=[], # list of values to plot as vlines, shape (M,1)\n",
    "    label_1: str='', # label for the first vlines\n",
    "    label_2: str='', # label for the second vlines\n",
    "\n",
    "    ) -> None: # None\n",
    "    \n",
    "    #-- Calculate S21 in dB and plot -----------------------------------------------\n",
    "    w_arr_ghz = w_arr / (2 * np.pi * GHz) # convert the x-axis to GHz\n",
    "\n",
    "    for s21, label, linestyle in s21_tuple:\n",
    "        plt.plot(\n",
    "            w_arr_ghz,\n",
    "            s21,\n",
    "            linestyle=linestyle,\n",
    "            label=label\n",
    "        )\n",
    "    \n",
    "\n",
    "    #-- Add vertical lines if available --------------------------------\n",
    "    for val in vline_list_1:\n",
    "        plt.axvline(x=val, color='C1', linestyle='--')\n",
    "\n",
    "    for val in v_line_list_2:\n",
    "        plt.axvline(x=val, color='C2', linestyle='--')\n",
    "\n",
    "    if label_1:\n",
    "        plt.plot([], [], '--', color='C1', label=label_1)\n",
    "    if label_2:\n",
    "        plt.plot([], [], '--', color='C2', label=label_2)\n",
    "    \n",
    "\n",
    "    plt.legend(bbox_to_anchor=(1.05, 1), loc='upper left')\n",
    "\n",
    "    plt.xlabel('Frequency (GHz)')\n",
    "    plt.ylabel('S21')\n",
    "    plt.show()"
   ]
  },
  {
   "cell_type": "code",
   "execution_count": null,
   "id": "20be9d23",
   "metadata": {},
   "outputs": [],
   "source": [
    "\n",
    "s21_1c = s21_from_abcd(abcd_total_1c, z0)\n",
    "\n",
    "plot_s21(\n",
    "    w_arr_1c, \n",
    "    [(np.abs(s21_1c), '|S21|', '-')]\n",
    "    )\n"
   ]
  },
  {
   "cell_type": "markdown",
   "id": "28341e9b",
   "metadata": {},
   "source": [
    "## 1d: Transform ABCD network to hanger circuit (T-Junction)"
   ]
  },
  {
   "cell_type": "markdown",
   "id": "91cdc8f3",
   "metadata": {},
   "source": [
    "Implement the ABCD matrix that transforms a circuit into a hanger circuit, which we also refer to as T-junction. Below we give the corresponding circuit for our example from 1c."
   ]
  },
  {
   "cell_type": "markdown",
   "id": "a77caeb5",
   "metadata": {},
   "source": [
    "<img src=\"images/abcd_1d_circuit.png\" alt=\"ABCD Circuit\" width=\"300\">\n"
   ]
  },
  {
   "cell_type": "code",
   "execution_count": null,
   "id": "035208bb",
   "metadata": {},
   "outputs": [],
   "source": [
    "def get_ABCD_T_junction(\n",
    "        abcd_arr: np.ndarray, # array of 2x2 ABCD matrices, one per frequency, shape (N,2,2)\n",
    "    )-> np.ndarray: # array of 2x2 ABCD matrices, one per frequency, shape (N,2,2)\n",
    "\n",
    "    abcd_T_junction_arr = np.zeros((len(abcd_arr), 2, 2), dtype=np.complex128)\n",
    "\n",
    "    #-- TODO: Fill in ABCD matrix ----------------------------------------------------\n",
    "\n",
    "    \n",
    "    #---------------------------------------------------------------------------------\n",
    "\n",
    "    return abcd_T_junction_arr"
   ]
  },
  {
   "cell_type": "code",
   "execution_count": null,
   "id": "1a8b42c5",
   "metadata": {},
   "outputs": [],
   "source": [
    "#-- Apply T-junction to the circuit --------------------------------------------\n",
    "abcd_1d = ..."
   ]
  },
  {
   "cell_type": "markdown",
   "id": "3c2025d9",
   "metadata": {},
   "source": [
    "Check your implementation."
   ]
  },
  {
   "cell_type": "code",
   "execution_count": null,
   "id": "ff44d94e",
   "metadata": {},
   "outputs": [],
   "source": [
    "test_abcd_1d(abcd_1d)"
   ]
  },
  {
   "cell_type": "markdown",
   "id": "6596f906",
   "metadata": {},
   "source": [
    "Plot the S21 spectrum."
   ]
  },
  {
   "cell_type": "code",
   "execution_count": null,
   "id": "003e79d9",
   "metadata": {},
   "outputs": [],
   "source": [
    "w_arr_1d = 2*pi* np.linspace(2, 60, 20_000) * GHz # frequency array in rad/s\n",
    "s21_1d = s21_from_abcd(abcd_1d, z0)\n",
    "\n",
    "plot_s21(\n",
    "    w_arr_1d, \n",
    "    [(np.abs(s21_1d), '|S21|', '-')]\n",
    "    )"
   ]
  },
  {
   "cell_type": "markdown",
   "id": "09fc920a",
   "metadata": {},
   "source": [
    "# Intermission I: Use the provided ABCD class (draws circuits)"
   ]
  },
  {
   "cell_type": "markdown",
   "id": "c1c832f2",
   "metadata": {},
   "source": [
    "You have now learned how to implement basic ABCD matrix multiplication. In this notebook, we are also providing a class that implements the same, but also automatically draws the network you are building. This can be helpful for debugging.\n",
    "\n",
    "As opposed to the previous implementation, we only require a frequency array when computing the S-parameters. The ABCD matrices are only instantiated with their circuit parameters. \n",
    "\n",
    "Matrix multiplication is done simply by multipying the ABCD objects together.\n",
    "\n",
    "See below for examples."
   ]
  },
  {
   "cell_type": "code",
   "execution_count": null,
   "id": "40343345",
   "metadata": {},
   "outputs": [],
   "source": [
    "series_cap = ABCDSeriesCapacitance(1)\n",
    "parallel_cap = ABCDParallelCapacitance(1)\n",
    "series_ind = ABCDSeriesInductance(1)\n",
    "parallel_ind = ABCDParallelInductance(1)\n",
    "tline = ABCDTEMTransmissionLine(1, z0, vp)"
   ]
  },
  {
   "cell_type": "code",
   "execution_count": null,
   "id": "6bd3adb6",
   "metadata": {},
   "outputs": [],
   "source": [
    "abcd_example_1 = (series_cap\n",
    "                * parallel_cap\n",
    "                * series_ind\n",
    "                * parallel_ind\n",
    "                * tline)\n",
    "abcd_example_1"
   ]
  },
  {
   "cell_type": "code",
   "execution_count": null,
   "id": "ce8bfe77",
   "metadata": {},
   "outputs": [],
   "source": [
    "abcd_example_2 = ABCDTJunction(abcd_example_1)\n",
    "abcd_example_2"
   ]
  },
  {
   "cell_type": "markdown",
   "id": "3fb031cb",
   "metadata": {},
   "source": [
    "If the circuits get crowded, you can also use ```ABCDInverse()``` to flip the circuit, visually. This doesn't change the ABCD matrix.\n"
   ]
  },
  {
   "cell_type": "code",
   "execution_count": null,
   "id": "8314cd5f",
   "metadata": {},
   "outputs": [],
   "source": [
    "abcd_example_2 * ABCDInverse(abcd_example_2)"
   ]
  },
  {
   "cell_type": "markdown",
   "id": "85b95dcb",
   "metadata": {},
   "source": [
    "Feel free to draw different circuit topologies. "
   ]
  },
  {
   "cell_type": "code",
   "execution_count": null,
   "id": "cdf6ee57",
   "metadata": {},
   "outputs": [],
   "source": [
    "#-- TODO: construct different circuit topologies -----------------------------------------------------------------------\n",
    "\n",
    "\n",
    "\n"
   ]
  },
  {
   "cell_type": "markdown",
   "id": "27596c4b",
   "metadata": {},
   "source": [
    "\n",
    "Now, we build the same circuit from 1d, and show how to compute the S-parameters. To do this, we first construct our ABCD matrix. Then, we call \n",
    "\n",
    "```python\n",
    "abcd.sparams(w_arr, z0)\n",
    "```\n",
    "\n",
    "This returns a list of S-parameters in the form:\n",
    "\n",
    "S = [S11, S12, S21, S22]\n",
    "\n",
    "So, to extract S21, we can simply do:\n",
    "\n",
    "```python\n",
    "s21 = abcd.sparams(w_arr, z0)[2]\n",
    "```\n",
    "\n",
    "\n"
   ]
  },
  {
   "cell_type": "code",
   "execution_count": null,
   "id": "0871d16f",
   "metadata": {},
   "outputs": [],
   "source": [
    "#-- Circuit parameter definitions ------------------------------------------------\n",
    "C = 30*fF       # capacitance\n",
    "ind = 1*nH      # inductance\n",
    "l = 4000*um     # length of transmission line\n",
    "\n",
    "w_arr_int = 2*pi* np.linspace(2, 60, 20_000) * GHz # frequency array in rad/s"
   ]
  },
  {
   "cell_type": "code",
   "execution_count": null,
   "id": "90bb91f5",
   "metadata": {},
   "outputs": [],
   "source": [
    "abcd_example_3 = ABCDTJunction(ABCDSeriesCapacitance(C)\n",
    "                               * ABCDTEMTransmissionLine(l, z0, vp)\n",
    "                               * ABCDParallelInductance(ind))\n",
    "abcd_example_3"
   ]
  },
  {
   "cell_type": "code",
   "execution_count": null,
   "id": "ade1e875",
   "metadata": {},
   "outputs": [],
   "source": [
    "s21_example_3 = abcd_example_3.sparams(w_arr_int, z0)[2]\n",
    "\n",
    "plot_s21(\n",
    "    w_arr_int, \n",
    "    [(np.abs(s21_example_3), '|S21|', '-')]\n",
    "    ) "
   ]
  },
  {
   "cell_type": "markdown",
   "id": "a359f8ec",
   "metadata": {},
   "source": [
    "Finally, note that the inductance from our exmaple does not actually affect the circuit behavior, since it is shorted out. The resulting circuit ends up being a simple hanger quarter-wave resonator, as shown below."
   ]
  },
  {
   "cell_type": "code",
   "execution_count": null,
   "id": "374ce7c3",
   "metadata": {},
   "outputs": [],
   "source": [
    "abcd_example_4 = ABCDTJunction(\n",
    "                    ABCDSeriesCapacitance(C) \n",
    "                    * ABCDTEMTransmissionLine(l, z0, vp))\n",
    "abcd_example_4"
   ]
  },
  {
   "cell_type": "code",
   "execution_count": null,
   "id": "85060d99",
   "metadata": {},
   "outputs": [],
   "source": [
    "s21_example_4 = abcd_example_4.sparams(w_arr_int, z0)[2]\n",
    "\n",
    "plot_s21(\n",
    "    w_arr_int,\n",
    "    [(np.abs(s21_example_4), 'w/o ind', '-'),\n",
    "    (np.abs(s21_example_3), 'w/ ind', '--')]\n",
    ")\n"
   ]
  },
  {
   "cell_type": "markdown",
   "id": "5b0794d4",
   "metadata": {},
   "source": [
    "# Exercise 2: Resonators"
   ]
  },
  {
   "cell_type": "markdown",
   "id": "67592a1f",
   "metadata": {},
   "source": [
    "In this exercise we investigate our quarter-wave resonator further. We begin by studying its resonance frequencies. Then we construct lumped LC and half-wave resonators. Later, we extract the linewidth of the quarter-wave resonator using non-linear fitting.\n",
    "\n",
    "We show the circuit quarter-wave resonator once more."
   ]
  },
  {
   "cell_type": "code",
   "execution_count": null,
   "id": "f6130979",
   "metadata": {},
   "outputs": [],
   "source": [
    "abcd_example_4"
   ]
  },
  {
   "cell_type": "markdown",
   "id": "5df736e6",
   "metadata": {},
   "source": [
    "## 2a: Calculate resonance frequencies for the quarter-wave resonator"
   ]
  },
  {
   "cell_type": "markdown",
   "id": "6b9b661d",
   "metadata": {},
   "source": [
    "Now, complete the function for the resonance frequencies of a quarter-wave resonatar. Include the capacitive correction. Find the formula in the slides."
   ]
  },
  {
   "cell_type": "code",
   "execution_count": null,
   "id": "536f2f4f",
   "metadata": {},
   "outputs": [],
   "source": [
    "def get_f_n_quarter_wave(\n",
    "        n, # index of the harmonic\n",
    "        C_c, # coupling capacitance\n",
    "        l, # length of quarter wave reosnator\n",
    "        z0, # characteristic impedance\n",
    "        vp # phase velocity\n",
    "    ) -> float: # frequency of the nth harmonic in Hz.\n",
    "    \n",
    "    #-- TODO: ----------------------------------------------------\n",
    "\n",
    "    #---------------------------------------------------------------------------------\n",
    "\n",
    "\n",
    "    return f_n"
   ]
  },
  {
   "cell_type": "markdown",
   "id": "0805d45e",
   "metadata": {},
   "source": [
    "Check your implementation."
   ]
  },
  {
   "cell_type": "code",
   "execution_count": null,
   "id": "e62bbed1",
   "metadata": {},
   "outputs": [],
   "source": [
    "test_get_f_n_2a(get_f_n_quarter_wave)"
   ]
  },
  {
   "cell_type": "markdown",
   "id": "84825dc4",
   "metadata": {},
   "source": [
    "Next, calculate the first four resonances of the above quarter-wave resonator, with and without the capacitive correction. \n",
    "\n",
    "Pay attention to units! Your function returns the frequencies in Hz. Please provide the list of freqeuncies in GHz. Your solutions will be marked as incorrect otherwise."
   ]
  },
  {
   "cell_type": "code",
   "execution_count": null,
   "id": "0ed90e62",
   "metadata": {},
   "outputs": [],
   "source": [
    "#-- TODO: calculate the first four resonances in GHz -----------------------------------------------------------------------\n",
    "# f_n_with_cap_correction_list = []\n",
    "# f_n_without_cap_correction_list = []\n",
    "\n",
    "# ...\n",
    "\n"
   ]
  },
  {
   "cell_type": "markdown",
   "id": "4a2090dc",
   "metadata": {},
   "source": [
    "Check your implementation."
   ]
  },
  {
   "cell_type": "code",
   "execution_count": null,
   "id": "e0ee22cd",
   "metadata": {},
   "outputs": [],
   "source": [
    "test_resonance_frequencies_2a(\n",
    "    f_n_without_cap_correction_list,\n",
    "    f_n_with_cap_correction_list\n",
    ")"
   ]
  },
  {
   "cell_type": "markdown",
   "id": "fea4a682",
   "metadata": {},
   "source": [
    "Plot the S21 spectrum."
   ]
  },
  {
   "cell_type": "code",
   "execution_count": null,
   "id": "3c115708",
   "metadata": {},
   "outputs": [],
   "source": [
    "w_arr_2a = 2*pi* np.linspace(2, 60, 20_000) * GHz # frequency array in rad/s\n",
    "\n",
    "plot_s21(\n",
    "    w_arr_2a,\n",
    "    [(np.abs(s21_1d), '|S21|', '-')],\n",
    "    f_n_with_cap_correction_list,\n",
    "    f_n_without_cap_correction_list,\n",
    "    label_1='w/ C corr',\n",
    "    label_2='w/o C corr'\n",
    ")"
   ]
  },
  {
   "cell_type": "markdown",
   "id": "5f212a67",
   "metadata": {},
   "source": [
    "## 2b: Construct lumped LC and half-wave resonators"
   ]
  },
  {
   "cell_type": "markdown",
   "id": "39975e3a",
   "metadata": {},
   "source": [
    "Construct a parallel LC filter and a half-wave resonator with the same fundamental mode as the quarter-wave resonator."
   ]
  },
  {
   "cell_type": "markdown",
   "id": "d5a38fe0",
   "metadata": {},
   "source": [
    "### Lumped LC resonator"
   ]
  },
  {
   "cell_type": "markdown",
   "id": "df6bc7dd",
   "metadata": {},
   "source": [
    "To approximate the fundamental mode of the quarter-wave resonance with a equivalent lumped LC circuit, we use the formulas given in Pozar. Find them in the slides."
   ]
  },
  {
   "cell_type": "markdown",
   "id": "2304b375",
   "metadata": {},
   "source": [
    "Use the unloaded frequency ```w_0 = 2pi* 7.5 *GHz```. Calculate the inductance and capacitance of the equivalent LC circuit.\n",
    "\n",
    "When constructing the ABCD matrix, use the same coupling capacitance as for the quarter-wave resonator: ```C = 30 *fF```."
   ]
  },
  {
   "cell_type": "code",
   "execution_count": null,
   "id": "e0a21a1b",
   "metadata": {},
   "outputs": [],
   "source": [
    "\n",
    "w0 = 2*pi* 7.5 *GHz\n",
    "C = 30*fF\n",
    "\n",
    "#-- TODO: Calculate the lumped resonator circuit paramaters and find the abcd matrix  ----\n",
    "# C_r = \n",
    "# ind_r = \n",
    "\n",
    "# abcd_2b_lumped = \n",
    "\n"
   ]
  },
  {
   "cell_type": "markdown",
   "id": "7db5a8d9",
   "metadata": {},
   "source": [
    "Check your implementation."
   ]
  },
  {
   "cell_type": "code",
   "execution_count": null,
   "id": "f08f69fe",
   "metadata": {},
   "outputs": [],
   "source": [
    "test_abcd_2b_lumped(abcd_2b_lumped)"
   ]
  },
  {
   "cell_type": "markdown",
   "id": "8abebed3",
   "metadata": {},
   "source": [
    "Plot the S21 spectrum."
   ]
  },
  {
   "cell_type": "code",
   "execution_count": null,
   "id": "fc918515",
   "metadata": {},
   "outputs": [],
   "source": [
    "w_arr_2b = 2*pi* np.linspace(2, 60, 20_000) * GHz # frequency array in rad/s\n",
    "s21_2b_quarter_wave = s21_1d.copy()\n",
    "s21_2b_lumped = abcd_2b_lumped.sparams(w_arr_2b, z0)[2]\n",
    "\n",
    "plot_s21(\n",
    "    w_arr_2b,\n",
    "    [(np.abs(s21_2b_quarter_wave), '|S21| quarter wave', '-'),\n",
    "    (np.abs(s21_2b_lumped), '|S21| lumped', '-.')]\n",
    "    )"
   ]
  },
  {
   "cell_type": "markdown",
   "id": "31fd161e",
   "metadata": {},
   "source": [
    "### Half-wave resonator"
   ]
  },
  {
   "cell_type": "markdown",
   "id": "f5d07f3d",
   "metadata": {},
   "source": [
    "Construct a half-wave resonator with the same fundamental mode as the quarter-wave resonator. Use the same coupling capacitance as for the quarter-wave resonator: ```C = 30 *fF``` for both ends of the half-wave resonator."
   ]
  },
  {
   "cell_type": "code",
   "execution_count": null,
   "id": "3107b386",
   "metadata": {},
   "outputs": [],
   "source": [
    "C = 30*fF\n",
    "\n",
    "#-- TODO: Calculate the lumped resonance and  -------------------------------------------------\n",
    "# l_half_wave = \n",
    "# abcd_2b_half_wave =\n"
   ]
  },
  {
   "cell_type": "markdown",
   "id": "de4f667c",
   "metadata": {},
   "source": [
    "Check your implementation."
   ]
  },
  {
   "cell_type": "code",
   "execution_count": null,
   "id": "c794b394",
   "metadata": {},
   "outputs": [],
   "source": [
    "test_abcd_2b_half_wave(abcd_2b_half_wave)"
   ]
  },
  {
   "cell_type": "markdown",
   "id": "c5058531",
   "metadata": {},
   "source": [
    "Plot the S21 spectrum."
   ]
  },
  {
   "cell_type": "code",
   "execution_count": null,
   "id": "0d9cf666",
   "metadata": {},
   "outputs": [],
   "source": [
    "s21_2b_half_wave = abcd_2b_half_wave.sparams(w_arr_2b, z0)[2]\n",
    "\n",
    "plot_s21(\n",
    "    w_arr_2b,\n",
    "    [(np.abs(s21_2b_quarter_wave), '|S21| quarter wave', '-'),\n",
    "    (np.abs(s21_2b_lumped), '|S21| lumped', '--'),\n",
    "    (np.abs(s21_2b_half_wave), '|S21| half wave', '-.')]\n",
    "    )"
   ]
  },
  {
   "cell_type": "markdown",
   "id": "6509e8a4",
   "metadata": {},
   "source": [
    "## 2c: Fit to the quarter-wave resonance"
   ]
  },
  {
   "cell_type": "markdown",
   "id": "9dd88ed2",
   "metadata": {},
   "source": [
    "Now, we want to zoom into the fundamental resonance and fit an anlaytic function to it. This will allow us to extract the linewidth kappa. \n",
    "\n",
    "First, define the Lorentzian function, used to fit to the data."
   ]
  },
  {
   "cell_type": "code",
   "execution_count": null,
   "id": "e6b918e6",
   "metadata": {},
   "outputs": [],
   "source": [
    "def get_s21_lorentzian(\n",
    "        w_arr: np.ndarray, # array of frequencies in rad/s, shape (N,)\n",
    "        wr: float, # resonance frequency in rad/s\n",
    "        kappa: float, # coupling rate in rad/s\n",
    "        phi: float, # phase in radians\n",
    ") -> np.ndarray: # array of s21 values, one per frequency, shape (N,)\n",
    "    \n",
    "\n",
    "    #-- TODO: Complete the lorentzian function ------------------------------------------------\n",
    "    s21_lorentzian = ...\n",
    "\n",
    "    return s21_lorentzian"
   ]
  },
  {
   "cell_type": "markdown",
   "id": "63076050",
   "metadata": {},
   "source": [
    "Check your implementation"
   ]
  },
  {
   "cell_type": "code",
   "execution_count": null,
   "id": "ecf2f3ae",
   "metadata": {},
   "outputs": [],
   "source": [
    "test_get_s21_2c(get_s21_lorentzian)"
   ]
  },
  {
   "cell_type": "markdown",
   "id": "19280ba1",
   "metadata": {},
   "source": [
    "Create s21 traces for different values of kappa and phi."
   ]
  },
  {
   "cell_type": "code",
   "execution_count": null,
   "id": "b2bea4e9",
   "metadata": {},
   "outputs": [],
   "source": [
    "w_arr_2c = 2*pi* np.linspace(7.1, 7.26, 10_000) * GHz # frequency array in rad/s\n",
    "wr = 2*pi* 7.18 *GHz # resonance frequency in rad/s\n",
    "\n",
    "kappa_list = 2*pi* np.array([5, 15, 25]) * MHz # coupling rates in rad/s\n",
    "phi_list = np.array([-pi/4, 0, pi/4]) # phase in radians\n",
    "\n",
    "s21_kappa_list = [] # list of s21 values for different kappa\n",
    "s21_phi_list = [] # list of s21 values for different phi\n",
    "\n",
    "#-- TODO: calculate the s21 spectrum for different kappa and phi values --------------------------------\n",
    "\n",
    "# phi = 0 # Use phi = 0 for this list.\n",
    "# for kappa in kappa_list:\n",
    "#    ...\n",
    "\n",
    "# kappa = 2*pi*5*MHz # Use kappa = 2*pi* 5 *MHz for this list.\n",
    "# for phi in phi_list:\n",
    "#    ...\n",
    "\n"
   ]
  },
  {
   "cell_type": "markdown",
   "id": "4dc13ac7",
   "metadata": {},
   "source": [
    "Check your implementation"
   ]
  },
  {
   "cell_type": "code",
   "execution_count": null,
   "id": "5294e637",
   "metadata": {},
   "outputs": [],
   "source": [
    "test_s21_kappa_phi_list_2c(\n",
    "    s21_kappa_list,\n",
    "    s21_phi_list\n",
    ")"
   ]
  },
  {
   "cell_type": "markdown",
   "id": "1c381cdb",
   "metadata": {},
   "source": [
    "Plot the S21 spectrum.\n",
    "\n",
    "We translate the S21 spectra for the phi_list vertically for clarity."
   ]
  },
  {
   "cell_type": "code",
   "execution_count": null,
   "id": "0f852bbf",
   "metadata": {},
   "outputs": [],
   "source": [
    "plot_s21(\n",
    "    w_arr_2c,\n",
    "    [(np.abs(s21_kappa_list[0]), '|S21| kappa=1MHz', '-'),\n",
    "    (np.abs(s21_kappa_list[1]), '|S21| kappa=5MHz', '-'),\n",
    "    (np.abs(s21_kappa_list[2]), '|S21| kappa=10MHz', '-')]\n",
    "    )\n",
    "\n",
    "plot_s21(\n",
    "    w_arr_2c,\n",
    "    [(np.abs(s21_phi_list[2]), '|S21| phi=pi/2', '-'),\n",
    "    (np.abs(s21_phi_list[1])+1, '|S21| phi=0', '-'),\n",
    "    (np.abs(s21_phi_list[0])+2, '|S21| phi=-pi/2', '-')]\n",
    "    )"
   ]
  },
  {
   "cell_type": "markdown",
   "id": "c8a201ef",
   "metadata": {},
   "source": [
    "We recalculate the quarter-wave resonance and zoom in close to the resonance."
   ]
  },
  {
   "cell_type": "code",
   "execution_count": null,
   "id": "e04b6ed2",
   "metadata": {},
   "outputs": [],
   "source": [
    "#-- Recalculate quarter wave resonator --------------------------------------------------\n",
    "C = 30*fF\n",
    "l = 4000*um\n",
    "\n",
    "abcd_2c_quarter_wave = ABCDTJunction(\n",
    "    ABCDSeriesCapacitance(C)\n",
    "    * ABCDTEMTransmissionLine(l, z0, vp))\n",
    "abcd_2c_quarter_wave"
   ]
  },
  {
   "cell_type": "markdown",
   "id": "b1f0edb4",
   "metadata": {},
   "source": [
    "Plot the S21 transmission."
   ]
  },
  {
   "cell_type": "code",
   "execution_count": null,
   "id": "e6c9b842",
   "metadata": {},
   "outputs": [],
   "source": [
    "s21_2c = abcd_2c_quarter_wave.sparams(w_arr_2c, z0)[2]\n",
    "plot_s21(\n",
    "    w_arr_2c,\n",
    "    [(np.abs(s21_2c), '|S21|', '-')]\n",
    ")"
   ]
  },
  {
   "cell_type": "markdown",
   "id": "cb123144",
   "metadata": {},
   "source": [
    "Then, we fit the data using a function that uses a Lorentzian lineshape as defined above. Play close attention as to how we fit and extract the fitted parameters. You will need this later."
   ]
  },
  {
   "cell_type": "code",
   "execution_count": null,
   "id": "fbc6dcd6",
   "metadata": {},
   "outputs": [],
   "source": [
    "fit_results_dict_2c, s21_fit_trace_2c = fit_resonance(w_arr_2c, s21_2c)\n",
    "\n",
    "# wr and kr are in rad/s\n",
    "wr = fit_results_dict_2c['wr'] /2/pi/GHz # in GHz\n",
    "kappa = fit_results_dict_2c['kr'] /2/pi/MHz # in MHz\n",
    "\n",
    "print(f'wr = {wr:.2f} GHz')\n",
    "print(f'kappa = {kappa:.2f} MHz')"
   ]
  },
  {
   "cell_type": "markdown",
   "id": "561781f8",
   "metadata": {},
   "source": [
    "Plot the S21 spectrum with the fit."
   ]
  },
  {
   "cell_type": "code",
   "execution_count": null,
   "id": "b4db287f",
   "metadata": {},
   "outputs": [],
   "source": [
    "plot_s21(\n",
    "    w_arr_2c,\n",
    "    [(np.abs(s21_2c), '|S21|', '-'),\n",
    "    (np.abs(s21_fit_trace_2c), '|S21| fit', '--')]\n",
    ")"
   ]
  },
  {
   "cell_type": "markdown",
   "id": "40d9d5ba",
   "metadata": {},
   "source": [
    "## 2d: Extract kappa on semi-infinite waveguide"
   ]
  },
  {
   "cell_type": "markdown",
   "id": "dc0c2d99",
   "metadata": {},
   "source": [
    "We construct a semi-infinite waveguide with a quarter-wave resonator. The circuit is shown below."
   ]
  },
  {
   "cell_type": "markdown",
   "id": "405baa7c",
   "metadata": {},
   "source": [
    "<img src=\"images/abcd_2d.png\" alt=\"ABCD Circuit\" width=\"400\">\n"
   ]
  },
  {
   "cell_type": "markdown",
   "id": "36b60079",
   "metadata": {},
   "source": [
    "First, implement this circuit for the values shown in the image and \n",
    "\n",
    "```python\n",
    "lf1 = 2000*um\n",
    "lf2 = 10000*um\n",
    "```\n",
    "\n",
    "Plot the S21 spectrum, fit the data and extract kappa."
   ]
  },
  {
   "cell_type": "code",
   "execution_count": null,
   "id": "066b1b8b",
   "metadata": {},
   "outputs": [],
   "source": [
    "#-- TODO: Calculate the s21 spectrum, fit it and extract kappa -------------------------------------------------\n",
    "# ...\n",
    "\n",
    "\n",
    "# Store your linewidth in kappa_2d. It must be in MHz.\n",
    "kappa_2d = ...\n"
   ]
  },
  {
   "cell_type": "markdown",
   "id": "976a86d3",
   "metadata": {},
   "source": [
    "Check your implementation."
   ]
  },
  {
   "cell_type": "code",
   "execution_count": null,
   "id": "0ddfd49e",
   "metadata": {},
   "outputs": [],
   "source": [
    "test_kappa_2d(kappa_2d) # kappa_2d must be in MHz"
   ]
  },
  {
   "cell_type": "markdown",
   "id": "8a7842da",
   "metadata": {},
   "source": [
    "## 2e: Sweep coupling position along semi-infinite waveguide"
   ]
  },
  {
   "cell_type": "markdown",
   "id": "583c7673",
   "metadata": {},
   "source": [
    "Now, we sweep the coupling position of the quarter wave resonator, while extracting its linewidth. This means we keep \n",
    "\n",
    "```python\n",
    "lf1 + lf2 = 12000*um\n",
    "```\n",
    "\n",
    "constant, while varying the coupling position ```lf1``` from 0 to 12000 um."
   ]
  },
  {
   "cell_type": "markdown",
   "id": "ef004d40",
   "metadata": {},
   "source": [
    "<img src=\"images/abcd_2d.png\" alt=\"ABCD Circuit\" width=\"400\">\n"
   ]
  },
  {
   "cell_type": "code",
   "execution_count": null,
   "id": "bd164edc",
   "metadata": {},
   "outputs": [],
   "source": [
    "lf1_arr = np.linspace(0, 12000, 100)*um # array of lf1 values in um\n",
    "kappa_list_2e = [] # list of kappa values for different lf1 values\n",
    "\n",
    "#-- TODO: Calculate the s21 spectrum, fit it and extract kappa for different lf1 values ------------------------------\n",
    "\n"
   ]
  },
  {
   "cell_type": "markdown",
   "id": "8c93ed27",
   "metadata": {},
   "source": [
    "Check your implementation."
   ]
  },
  {
   "cell_type": "code",
   "execution_count": null,
   "id": "ad4c1f09",
   "metadata": {},
   "outputs": [],
   "source": [
    "test_kappa_list_2e(kappa_list_2e) # kappa_list_2e must be in MHz"
   ]
  },
  {
   "cell_type": "code",
   "execution_count": null,
   "id": "895a0c00",
   "metadata": {},
   "outputs": [],
   "source": [
    "plt.plot(lf1_arr/um, kappa_list_2e)\n",
    "plt.xlabel('lf1 (um)')\n",
    "plt.ylabel('kappa (MHz)')\n",
    "plt.show()"
   ]
  },
  {
   "cell_type": "markdown",
   "id": "be4cdc07",
   "metadata": {},
   "source": [
    "### Question\n",
    "Calculate at what distances we have nodes and antinodes. Can you explain this?"
   ]
  },
  {
   "cell_type": "markdown",
   "id": "fd083c10",
   "metadata": {},
   "source": [
    "#TODO: Answer here"
   ]
  },
  {
   "cell_type": "markdown",
   "id": "7a8cf94f",
   "metadata": {},
   "source": [
    "## 2f (optional): Study circuit crosstalk in multiplexed resonator systems"
   ]
  },
  {
   "cell_type": "markdown",
   "id": "fb48eeb3",
   "metadata": {},
   "source": [
    "Study how resonators parastically affect each other. Construct the system below, where we have two quarter-wave resonators, coupled to a common semi-inifinite waveguide at different positions.\n",
    "\n",
    "\n",
    "Sweep the coupling position of the 4mm resonator, while keeping the 4.6mm resonator fixed. Our feedline has a total length of 12mm, and the 4.6mm resonator remains at a fixed distance from the input capacitance of 8mm.\n",
    "\n",
    "As you sweep the 4mm resonator, fit to the resonance of the 4.6mm resonator, extracting a list of kappa values. Plot these values.\n",
    "\n",
    "Once you have completed this task, discuss your results with an instructor."
   ]
  },
  {
   "cell_type": "markdown",
   "id": "2a7b7ba4",
   "metadata": {},
   "source": [
    "<img src=\"images/abcd_pert_2f.png\" alt=\"ABCD Circuit\" width=\"400\">\n"
   ]
  },
  {
   "cell_type": "markdown",
   "id": "b083a426",
   "metadata": {},
   "source": [
    "# Exercise 3: Implementing Reed, et al., 2010"
   ]
  },
  {
   "cell_type": "markdown",
   "id": "95523707",
   "metadata": {},
   "source": [
    "Let's try to rebuild a microwave circuit from a paper. Here, we'll work try to simulate the circuit used for the first demonstration of a Purcell filter. The paper is called: \"Fast Reset and Suppressing Spontaneous Emission of a Superconducting Qubit\" by Reed, et al., 2010, APL. Link: https://arxiv.org/abs/1003.0142. \n",
    "\n",
    "The basic idea is to add a stopband resonator to the readout resonator, which suppresses transmission at the qubit frequency, but not at the readout frequency. This allows us to implement strong readout coupling, while keeping the qubit protected.\n",
    "\n",
    "We will rebuild the stopband-resonator system from Fig. 1a and simulate the S21 spectrum. This should agree with Fig. 1c.\n",
    "\n",
    "To do this, find the circuit parameters from the paper. Note that \n",
    "\n",
    "```python\n",
    "Ctot = Cin + Cout.\n",
    "```\n",
    "\n",
    "Ignore the qubit, i.e., implement only the cavity and the twin stopband filters. Use a small capacitance \n",
    "\n",
    "```python\n",
    "Copen = 0.1 fF\n",
    "```\n",
    "at the far ends of the stopband filters.\n",
    "\n",
    "\n",
    "Remember that the cavity is loaded by the capacitances. Make sure to include this when caclulating the length of the cavity transmission line from its resonance frequency. In the case of a half-wave resonator, we have\n",
    "\n",
    "```python\n",
    "l_eff = l + vp*Z0 * (Cin + Cout).\n",
    "```\n",
    "\n",
    "For the stopband resontors, ignore any capacitive corrections. In this instance, they are negligible."
   ]
  },
  {
   "cell_type": "code",
   "execution_count": null,
   "id": "55928661",
   "metadata": {},
   "outputs": [],
   "source": [
    "#-- TODO: Implement the circuit from the paper ------------------------------------------------\n",
    "# ...\n",
    "\n",
    "\n",
    "# abcd_total_3 = # store your result in this variable"
   ]
  },
  {
   "cell_type": "markdown",
   "id": "43fa2c50",
   "metadata": {},
   "source": [
    "Plot s21 spectrum."
   ]
  },
  {
   "cell_type": "code",
   "execution_count": null,
   "id": "98906b34",
   "metadata": {},
   "outputs": [],
   "source": [
    "w_arr_3 = 2*pi* np.linspace(4, 9.5, 10_000) * GHz # frequency array in rad/s\n",
    "s21_total_3 = abcd_total_3.sparams(w_arr_3, z0)[2]\n",
    "\n",
    "min_s21_freq = w_arr_3[np.argmin(np.abs(s21_total_3))]\n",
    "max_s21_freq = w_arr_3[np.argmax(np.abs(s21_total_3))]\n",
    "\n",
    "plot_s21(\n",
    "    w_arr_3,\n",
    "    [(20*np.log10(np.abs(s21_total_3)), '|S21|', '-')],\n",
    "    [min_s21_freq/2/pi/GHz],\n",
    "    [max_s21_freq/2/pi/GHz],\n",
    "    label_1=f'{min_s21_freq/2/pi/GHz:.2f} GHz',\n",
    "    label_2=f'{max_s21_freq/2/pi/GHz:.2f} GHz'\n",
    ")"
   ]
  },
  {
   "cell_type": "markdown",
   "id": "481a20e4",
   "metadata": {},
   "source": [
    "Check your implementation."
   ]
  },
  {
   "cell_type": "code",
   "execution_count": null,
   "id": "bd0c58af",
   "metadata": {},
   "outputs": [],
   "source": [
    "test_paper_trace_3(s21_total_3)"
   ]
  },
  {
   "cell_type": "markdown",
   "id": "27ec55e4",
   "metadata": {},
   "source": [
    "# Reading list"
   ]
  },
  {
   "cell_type": "markdown",
   "id": "193fae4b",
   "metadata": {},
   "source": [
    "If you're awesome and have managed to finish all exercises, you can read the following papers that rely involve the effects of transmission lines.\n",
    "\n",
    "https://arxiv.org/abs/0807.4094 Goeppl, et al., 2008 (Characterizing CPW resonators) <br>\n",
    "https://arxiv.org/abs/1401.0257 Sank, et al., 2014 (Introducing broadband Purcell filters) <br>\n",
    "https://arxiv.org/abs/1801.07904 Heinsoo, et al., 2018 (Multiplexed readout, with individual Purcell filters) <br>\n",
    "https://arxiv.org/abs/2202.06202 Sunada, et al., 2022 (Intrinsic Purcell filter through mode coupling) <br>\n",
    "https://arxiv.org/abs/2403.01375 Yen, et al., 2024 (Directional readout) <br>\n",
    "https://arxiv.org/abs/2409.04967v2 Spring, et al., 2024 (Intrinsic Purcell filter through multi-transmission line coupling) <br>\n"
   ]
  }
 ],
 "metadata": {
  "kernelspec": {
   "display_name": "sqdew",
   "language": "python",
   "name": "python3"
  },
  "language_info": {
   "codemirror_mode": {
    "name": "ipython",
    "version": 3
   },
   "file_extension": ".py",
   "mimetype": "text/x-python",
   "name": "python",
   "nbconvert_exporter": "python",
   "pygments_lexer": "ipython3",
   "version": "3.13.0"
  }
 },
 "nbformat": 4,
 "nbformat_minor": 5
}
